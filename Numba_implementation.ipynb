{
 "cells": [
  {
   "cell_type": "code",
   "execution_count": 1,
   "id": "f492fa06",
   "metadata": {},
   "outputs": [
    {
     "name": "stdout",
     "output_type": "stream",
     "text": [
      "1.3.3\n",
      "3 8 16\n"
     ]
    }
   ],
   "source": [
    "import pandas as pd\n",
    "import numpy as np\n",
    "import numba\n",
    "import timeit\n",
    "print(pd.__version__)\n",
    "import sys\n",
    "print(sys.version_info.major, sys.version_info.minor, sys.version_info.micro)"
   ]
  },
  {
   "cell_type": "markdown",
   "id": "ebe8bc07",
   "metadata": {},
   "source": [
    "### Numba implementation of discount prices calculation"
   ]
  },
  {
   "cell_type": "code",
   "execution_count": 4,
   "id": "7f4d4981",
   "metadata": {},
   "outputs": [
    {
     "name": "stdout",
     "output_type": "stream",
     "text": [
      "Time elapsed is: 0.9497981000000095\n",
      "   Store1   Store2\n",
      "0    88.8   92.463\n",
      "1   102.4   94.080\n",
      "2    68.0   70.040\n",
      "3    80.0   71.400\n",
      "4    19.0   19.760\n",
      "5    68.0   61.880\n",
      "6   108.0  108.000\n",
      "7   100.0   98.000\n",
      "8    47.2   49.147\n"
     ]
    }
   ],
   "source": [
    "\n",
    "@numba.njit\n",
    "def compute_dscprice(arr1, arr2,arr3):\n",
    "    disc_arr1 = arr1-arr1 * 0.2 *arr3\n",
    "    disc_arr2 = arr2-arr2 * 0.3 *arr3\n",
    "    return disc_arr1, disc_arr2\n",
    "\n",
    "arr1 = df['Store1'].to_numpy()\n",
    "arr2 = df['Store2'].to_numpy()\n",
    "arr3 = df['Discountability'].to_numpy()\n",
    "\n",
    "startime=timeit.default_timer()\n",
    "scaled_arr1, scaled_arr2 = compute_dscprice(arr1, arr2,arr3)\n",
    "scaled_df = pd.DataFrame({\n",
    "    'Store1': scaled_arr1,\n",
    "    'Store2': scaled_arr2,\n",
    "})\n",
    "endtime=timeit.default_timer()\n",
    "diff=endtime-startime\n",
    "print(f\"Time elapsed is: {diff}\")\n",
    "print(scaled_df.head(9))"
   ]
  },
  {
   "cell_type": "code",
   "execution_count": null,
   "id": "4a445fc2",
   "metadata": {},
   "outputs": [],
   "source": []
  }
 ],
 "metadata": {
  "kernelspec": {
   "display_name": "Python (numba2)",
   "language": "python",
   "name": "numba"
  },
  "language_info": {
   "codemirror_mode": {
    "name": "ipython",
    "version": 3
   },
   "file_extension": ".py",
   "mimetype": "text/x-python",
   "name": "python",
   "nbconvert_exporter": "python",
   "pygments_lexer": "ipython3",
   "version": "3.8.16"
  }
 },
 "nbformat": 4,
 "nbformat_minor": 5
}
