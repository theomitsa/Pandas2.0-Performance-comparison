{
 "cells": [
  {
   "cell_type": "markdown",
   "id": "4a3b747a",
   "metadata": {},
   "source": [
    "# TIMING PANDAS 2.0 AGAINST VECTORIZATION AND POLARS"
   ]
  },
  {
   "cell_type": "code",
   "execution_count": 1,
   "id": "f177e113",
   "metadata": {},
   "outputs": [
    {
     "name": "stdout",
     "output_type": "stream",
     "text": [
      "2.0.0\n"
     ]
    }
   ],
   "source": [
    "import numpy as np\n",
    "import pandas as pd\n",
    "import pyarrow as pa\n",
    "import pyarrow.compute as pc\n",
    "import timeit\n",
    "print(pd.__version__)"
   ]
  },
  {
   "cell_type": "markdown",
   "id": "d513ddcc",
   "metadata": {},
   "source": [
    "### Create data and write to a CSV"
   ]
  },
  {
   "cell_type": "code",
   "execution_count": 2,
   "id": "22101760",
   "metadata": {},
   "outputs": [
    {
     "name": "stdout",
     "output_type": "stream",
     "text": [
      "   Store1  Store2  Discountability\n",
      "0     111  132.09                1\n",
      "1     128  134.40                1\n",
      "2      68   70.04                0\n",
      "3     100  102.00                1\n",
      "4      19   19.76                0\n",
      "5      85   88.40                1\n",
      "6     108  108.00                0\n",
      "7     125  140.00                1\n",
      "8      59   70.21                1\n"
     ]
    }
   ],
   "source": [
    "np.random.seed(123)\n",
    "# create the prices of the first store with random integers between 2 and 200\n",
    "col1 = np.random.randint(low=2, high=200, size=500000)\n",
    "#create the random amount by which prices of Store2 are higher.\n",
    "np.random.seed(341)\n",
    "# create the second column with random integers between 2 and 20\n",
    "var = np.random.randint(low=0, high=21, size=500000)\n",
    "#create the prices of Store2\n",
    "col2 = col1 + col1 * (var / 100)\n",
    "np.random.seed(245)\n",
    "# create the Discountability column with random values of 0 or 1\n",
    "col3 = np.random.randint(low=0, high=2, size=500000)\n",
    "df = pd.DataFrame({'Store1': col1, 'Store2': col2, 'Discountability': col3})\n",
    "print(df.head(9))\n",
    "df.to_csv('Storeprices.csv', index=False)\n"
   ]
  },
  {
   "cell_type": "markdown",
   "id": "c67936eb",
   "metadata": {},
   "source": [
    "### Create Pandas 2.0 Dataframes from the .csv file with and without the help of pyarrow"
   ]
  },
  {
   "cell_type": "code",
   "execution_count": 3,
   "id": "36ae7f91",
   "metadata": {
    "scrolled": true
   },
   "outputs": [
    {
     "name": "stdout",
     "output_type": "stream",
     "text": [
      "0.044916999991983175\n",
      "0.1962997000082396\n"
     ]
    }
   ],
   "source": [
    "startime=timeit.default_timer()\n",
    "df_pa = pd.read_csv('Storeprices.csv', dtype_backend=\"pyarrow\", engine=\"pyarrow\")\n",
    "endtime=timeit.default_timer()\n",
    "diffread=endtime-startime\n",
    "print(diffread)\n",
    "\n",
    "startime=timeit.default_timer()\n",
    "df2= pd.read_csv('Storeprices.csv')\n",
    "endtime=timeit.default_timer()\n",
    "diffread2=endtime-startime\n",
    "print(diffread2)\n"
   ]
  },
  {
   "cell_type": "markdown",
   "id": "7174da09",
   "metadata": {},
   "source": [
    "### Dataframe Element-wise Operations With Pyarrow Table"
   ]
  },
  {
   "cell_type": "code",
   "execution_count": 4,
   "id": "cc03dbd0",
   "metadata": {},
   "outputs": [
    {
     "name": "stdout",
     "output_type": "stream",
     "text": [
      "Time elapsed is: 0.028865800006315112\n",
      "   DiscountedStore1  DiscountedStore2\n",
      "0              88.8            92.463\n",
      "1             102.4            94.080\n",
      "2              68.0            70.040\n",
      "3              80.0            71.400\n",
      "4              19.0            19.760\n",
      "5              68.0            61.880\n",
      "6             108.0           108.000\n",
      "7             100.0            98.000\n",
      "8              47.2            49.147\n"
     ]
    }
   ],
   "source": [
    "#Create a pyarrow Table from a Pandas Dataframe\n",
    "df_table = pa.Table.from_pandas(df_pa)\n",
    "s1=timeit.default_timer()\n",
    "#This function scales columns Store1 and Store2 by the discount factors, 0.2 and 0.3 respectively, \n",
    "# and also the Discoutability column. It returns the scaled columns.\n",
    "def scale_columns(table, column1, column2, mask_column):\n",
    "    # Get the columns from the PyArrow table\n",
    "    store1_col = table[column1]\n",
    "    store2_col = table[column2]\n",
    "    mask_col = table[mask_column]\n",
    "\n",
    "    # Scale 'column1' by 0.2 * mask_column using pa.compute.multiply()\n",
    "    scaled_store1_col = pc.multiply(store1_col, pc.multiply(0.2, mask_col))\n",
    "\n",
    "    # Scale 'column2' by 0.3 * mask_column using pa.compute.multiply()\n",
    "    scaled_store2_col = pc.multiply(store2_col, pc.multiply(0.3, mask_col))\n",
    "\n",
    "    return scaled_store1_col, scaled_store2_col\n",
    "\n",
    "\n",
    "# Call the scale_columns function\n",
    "scaled_columns = scale_columns(df_table, 'Store1', 'Store2', 'Discountability')\n",
    "\n",
    "result_table = pa.Table.from_arrays([\n",
    "   pc.subtract(df_table[0],scaled_columns[0]),\n",
    "   pc.subtract(df_table[1],scaled_columns[1]),\n",
    "\n",
    "], names=['DiscountedStore1', 'DiscountedStore2'])\n",
    "\n",
    "dff=result_table.to_pandas()\n",
    "s2=timeit.default_timer()\n",
    "diff2=s2-s1\n",
    "print(f\"Time elapsed is: {diff2}\")\n",
    "print(dff.head(9))"
   ]
  },
  {
   "cell_type": "markdown",
   "id": "e7483aa6",
   "metadata": {},
   "source": [
    "### Dataframe Row-wise Operations with Pandas 2.0 apply() Version 1.0"
   ]
  },
  {
   "cell_type": "code",
   "execution_count": 5,
   "id": "0e01715d",
   "metadata": {},
   "outputs": [
    {
     "name": "stdout",
     "output_type": "stream",
     "text": [
      "Time elapsed is: 197.63155489997007\n",
      "   DiscountStore1  DiscountStore2\n",
      "0            88.8          92.463\n",
      "1           102.4          94.080\n",
      "2            68.0          70.040\n",
      "3            80.0          71.400\n",
      "4            19.0          19.760\n",
      "5            68.0          61.880\n",
      "6           108.0         108.000\n",
      "7           100.0          98.000\n",
      "8            47.2          49.147\n"
     ]
    }
   ],
   "source": [
    "\n",
    "\n",
    "startime=timeit.default_timer()\n",
    "#Function with a nested function inside. It is the nested function that performs the scaling.\n",
    "def scale_columns(df, column1, column2, abletodiscount_column):\n",
    "    # Create a new dataframe to store the scaled columns\n",
    "    scaled_df = pd.DataFrame()\n",
    "\n",
    "    def discount_store(row):\n",
    "        # Get the values from the current row\n",
    "        store1_value = row[column1]\n",
    "        store2_value = row[column2]\n",
    "        abletodiscount_value = row[abletodiscount_column]\n",
    "        scaled_store1 = store1_value-store1_value * (0.2 * abletodiscount_value)\n",
    "        scaled_store2 = store2_value-store2_value * (0.3 * abletodiscount_value)\n",
    "\n",
    "        # Return the scaled values\n",
    "        return pd.Series({column1: scaled_store1, column2: scaled_store2})\n",
    "\n",
    "    # Apply the scaling function to each row of the dataframe\n",
    "    scaled_df = df.apply(discount_store, axis=1)\n",
    "\n",
    "    return scaled_df\n",
    "\n",
    "discount_df = scale_columns(df2, 'Store1', 'Store2', 'Discountability')\n",
    "discount_df.columns=[\"DiscountStore1\",\"DiscountStore2\"]\n",
    "\n",
    "s2=timeit.default_timer()\n",
    "diff2=s2-s1\n",
    "print(f\"Time elapsed is: {diff2}\")\n",
    "# Print the resulting scaled dataframe\n",
    "print(discount_df.head(9))"
   ]
  },
  {
   "cell_type": "markdown",
   "id": "33fa7402",
   "metadata": {},
   "source": [
    "### Dataframe Row-wise Operations with Pandas 2.0 apply() Version 2.0"
   ]
  },
  {
   "cell_type": "code",
   "execution_count": 6,
   "id": "8133e527",
   "metadata": {},
   "outputs": [
    {
     "name": "stdout",
     "output_type": "stream",
     "text": [
      "Time elapsed is: 252.87545809999574\n",
      "   DiscountStore1  DiscountStore2\n",
      "0            88.8          92.463\n",
      "1           102.4          94.080\n",
      "2            68.0          70.040\n",
      "3            80.0          71.400\n",
      "4            19.0          19.760\n",
      "5            68.0          61.880\n",
      "6           108.0         108.000\n",
      "7           100.0          98.000\n",
      "8            47.2          49.147\n"
     ]
    }
   ],
   "source": [
    "startime=timeit.default_timer()\n",
    "\n",
    "def scale_columns(df, column1, column2, abletodiscount_column):\n",
    "    # Create new lists to store the scaled values\n",
    "    scaled_store1 = []\n",
    "    scaled_store2 = []\n",
    "\n",
    "    def discount_store(row):\n",
    "        # Get the values from the current row\n",
    "        store1_value = row[column1]\n",
    "        store2_value = row[column2]\n",
    "        abletodiscount_value = row[abletodiscount_column]\n",
    "        scaled_store1.append(store1_value - store1_value * (0.2 * abletodiscount_value))\n",
    "        scaled_store2.append(store2_value - store2_value * (0.3 * abletodiscount_value))\n",
    "\n",
    "    # Apply the scaling function to each row of the dataframe\n",
    "    df.apply(discount_store, axis=1)\n",
    "\n",
    "    # Create the resulting DataFrame\n",
    "    scaled_df = pd.DataFrame({column1: scaled_store1, column2: scaled_store2})\n",
    "\n",
    "    return scaled_df\n",
    "\n",
    "\n",
    "discount_df = scale_columns(df2, 'Store1', 'Store2', 'Discountability')\n",
    "discount_df.columns=[\"DiscountStore1\",\"DiscountStore2\"]\n",
    "\n",
    "s2=timeit.default_timer()\n",
    "diff2=s2-s1\n",
    "print(f\"Time elapsed is: {diff2}\")\n",
    "# Print the resulting scaled dataframe\n",
    "print(discount_df.head(9))"
   ]
  },
  {
   "cell_type": "markdown",
   "id": "011bfe3c",
   "metadata": {},
   "source": [
    "### Row-wise Dataframe Operations with Pandas 2.0 itertuples()"
   ]
  },
  {
   "cell_type": "code",
   "execution_count": 7,
   "id": "3a7bbcff",
   "metadata": {},
   "outputs": [
    {
     "name": "stdout",
     "output_type": "stream",
     "text": [
      "Time elapsed is: 1.0882243000087328\n",
      "   DiscountedStore1  DiscountedStore2\n",
      "0              88.8            92.463\n",
      "1             102.4            94.080\n",
      "2              68.0            70.040\n",
      "3              80.0            71.400\n",
      "4              19.0            19.760\n",
      "5              68.0            61.880\n",
      "6             108.0           108.000\n",
      "7             100.0            98.000\n",
      "8              47.2            49.147\n"
     ]
    }
   ],
   "source": [
    "\n",
    "# create an empty list to store the discounted prices\n",
    "discounted_prices = []\n",
    "startime=timeit.default_timer()\n",
    "\n",
    "# iterate using itertuples\n",
    "for row in df2.itertuples(index=False):\n",
    "    \n",
    "    discounted_price = [\n",
    "        row.Store1-row.Store1 * 0.2*row.Discountability,\n",
    "        row.Store2-row.Store2*0.3*row.Discountability\n",
    "    ]\n",
    "    # append the discounted values to the list\n",
    "    discounted_prices.append(discounted_price)\n",
    "\n",
    "# save the list of discounted values to a new DataFrame\n",
    "discount_df = pd.DataFrame(discounted_prices, columns=['DiscountedStore1', 'DiscountedStore2'])\n",
    "\n",
    "\n",
    "endtime=timeit.default_timer()\n",
    "diff=endtime-startime\n",
    "print(f\"Time elapsed is: {diff}\")\n",
    "print(discount_df.head(9))\n"
   ]
  },
  {
   "cell_type": "markdown",
   "id": "33d2d163",
   "metadata": {},
   "source": [
    "### Vectorized Operations"
   ]
  },
  {
   "cell_type": "code",
   "execution_count": 8,
   "id": "3964ce14",
   "metadata": {},
   "outputs": [
    {
     "name": "stdout",
     "output_type": "stream",
     "text": [
      "Time elapsed is: 0.0536642000079155\n",
      "   DiscountedStore1  DiscountedStore2\n",
      "0              88.8            92.463\n",
      "1             102.4            94.080\n",
      "2              68.0            70.040\n",
      "3              80.0            71.400\n",
      "4              19.0            19.760\n",
      "5              68.0            61.880\n",
      "6             108.0           108.000\n",
      "7             100.0            98.000\n",
      "8              47.2            49.147\n"
     ]
    }
   ],
   "source": [
    "startime=timeit.default_timer()\n",
    "\n",
    "# scale the first column by 0.2 and the second by 0.3\n",
    "discounted_prices = pd.DataFrame({\n",
    "    'DiscountedStore1': df2['Store1'] - df2['Store1'] * 0.2 * df2['Discountability'],\n",
    "    'DiscountedStore2': df2['Store2'] - df2['Store2'] * 0.3 * df2['Discountability']\n",
    "})\n",
    "\n",
    "endtime=timeit.default_timer()\n",
    "diff=endtime-startime\n",
    "print(f\"Time elapsed is: {diff}\")\n",
    "# print the resulting dataframe\n",
    "print(discounted_prices.head(9))\n"
   ]
  },
  {
   "cell_type": "markdown",
   "id": "b73589e5",
   "metadata": {},
   "source": [
    "### Dataframe Creation and Vectorized Operations With Polars"
   ]
  },
  {
   "cell_type": "code",
   "execution_count": 9,
   "id": "2084b206",
   "metadata": {
    "scrolled": true
   },
   "outputs": [
    {
     "name": "stdout",
     "output_type": "stream",
     "text": [
      "Time elapsed for reading is: 0.027874399966094643\n",
      "Time elapsed is: 0.009557300014421344\n",
      "shape: (9, 2)\n",
      "┌──────────────────┬──────────────────┐\n",
      "│ DiscountedStore1 ┆ DiscountedStore2 │\n",
      "│ ---              ┆ ---              │\n",
      "│ f64              ┆ f64              │\n",
      "╞══════════════════╪══════════════════╡\n",
      "│ 88.8             ┆ 92.463           │\n",
      "│ 102.4            ┆ 94.08            │\n",
      "│ 68.0             ┆ 70.04            │\n",
      "│ 80.0             ┆ 71.4             │\n",
      "│ 19.0             ┆ 19.76            │\n",
      "│ 68.0             ┆ 61.88            │\n",
      "│ 108.0            ┆ 108.0            │\n",
      "│ 100.0            ┆ 98.0             │\n",
      "│ 47.2             ┆ 49.147           │\n",
      "└──────────────────┴──────────────────┘\n"
     ]
    }
   ],
   "source": [
    "import polars as pl\n",
    "\n",
    "\n",
    "# read a CSV file into a Polars DataFrame\n",
    "start1=timeit.default_timer()\n",
    "df22 = pl.read_csv('Storeprices.csv')\n",
    "end1=timeit.default_timer()\n",
    "dif=end1-start1\n",
    "\n",
    "print(f\"Time elapsed for reading is: {dif}\")\n",
    "def discounted_value(value, mask_value, factor):\n",
    "    k = mask_value * factor\n",
    "    return value -(value*k)\n",
    "\n",
    "startime=timeit.default_timer()\n",
    "scaled_df = pl.DataFrame({\n",
    "    'DiscountedStore1': discounted_value(df22['Store1'], df22['Discountability'], 0.2),\n",
    "    'DiscountedStore2': discounted_value(df22['Store2'], df22['Discountability'], 0.3)\n",
    "})\n",
    "\n",
    "\n",
    "endtime=timeit.default_timer()\n",
    "diff=endtime-startime\n",
    "print(f\"Time elapsed is: {diff}\")\n",
    "print(scaled_df.head(9))"
   ]
  },
  {
   "cell_type": "code",
   "execution_count": null,
   "id": "9cb684b0",
   "metadata": {},
   "outputs": [],
   "source": []
  }
 ],
 "metadata": {
  "kernelspec": {
   "display_name": "Python (pricenev4)",
   "language": "python",
   "name": "pricenev"
  },
  "language_info": {
   "codemirror_mode": {
    "name": "ipython",
    "version": 3
   },
   "file_extension": ".py",
   "mimetype": "text/x-python",
   "name": "python",
   "nbconvert_exporter": "python",
   "pygments_lexer": "ipython3",
   "version": "3.10.11"
  }
 },
 "nbformat": 4,
 "nbformat_minor": 5
}
