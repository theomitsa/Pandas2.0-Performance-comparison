{
 "cells": [
  {
   "cell_type": "code",
   "execution_count": 2,
   "metadata": {},
   "outputs": [],
   "source": [
    "import cudf\n",
    "import numpy as np\n",
    "import timeit\n"
   ]
  },
  {
   "cell_type": "code",
   "execution_count": 3,
   "metadata": {},
   "outputs": [
    {
     "name": "stdout",
     "output_type": "stream",
     "text": [
      "Time elapsed is: 0.008894977000011295\n",
      "   DiscountPrStore1  DiscountPrStore2\n",
      "0              88.8            92.463\n",
      "1             102.4            94.080\n",
      "2              68.0            70.040\n",
      "3              80.0            71.400\n",
      "4              19.0            19.760\n",
      "5              68.0            61.880\n",
      "6             108.0           108.000\n",
      "7             100.0            98.000\n",
      "8              47.2            49.147\n"
     ]
    }
   ],
   "source": [
    "\n",
    "df=cudf.read_csv('/mnt/c/Users/theom/Storeprices.csv')\n",
    "\n",
    "\n",
    "# Compute the discounted the prices and save in a new DataFrame\n",
    "start_time = timeit.default_timer()\n",
    "new_df = cudf.DataFrame()\n",
    "new_df['DiscountPrStore1'] = df['Store1']-(df['Store1'] * 0.2*df['Discountability'])\n",
    "new_df['DiscountPrStore2'] = df['Store2']-(df['Store2'] * 0.3*df['Discountability'])\n",
    "end_time = timeit.default_timer()\n",
    "elapsed_time = end_time - start_time\n",
    "print(f\"Time elapsed is: {elapsed_time}\")\n",
    "print(new_df.head(9))\n",
    "\n",
    "\n",
    "\n",
    "\n"
   ]
  },
  {
   "cell_type": "code",
   "execution_count": null,
   "metadata": {},
   "outputs": [],
   "source": []
  }
 ],
 "metadata": {
  "kernelspec": {
   "display_name": "Python (rapids23)",
   "language": "python",
   "name": "rapids-23.04"
  },
  "language_info": {
   "codemirror_mode": {
    "name": "ipython",
    "version": 3
   },
   "file_extension": ".py",
   "mimetype": "text/x-python",
   "name": "python",
   "nbconvert_exporter": "python",
   "pygments_lexer": "ipython3",
   "version": "3.10.10"
  }
 },
 "nbformat": 4,
 "nbformat_minor": 2
}
