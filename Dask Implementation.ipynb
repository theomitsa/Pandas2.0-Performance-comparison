{
 "cells": [
  {
   "cell_type": "code",
   "execution_count": 1,
   "id": "ea64cc1b",
   "metadata": {},
   "outputs": [],
   "source": [
    "\n",
    "import os\n",
    "import numpy as np\n",
    "import pandas as pd\n",
    "import timeit\n"
   ]
  },
  {
   "cell_type": "markdown",
   "id": "bc40d9fe",
   "metadata": {},
   "source": [
    "### DASK"
   ]
  },
  {
   "cell_type": "code",
   "execution_count": 2,
   "id": "34fdeba8",
   "metadata": {
    "scrolled": true
   },
   "outputs": [
    {
     "name": "stdout",
     "output_type": "stream",
     "text": [
      "Time to read file was: 0.020656200009398162\n",
      "Time elapsed is: 0.6413181999814697\n",
      "   Store1   Store2  Discountability\n",
      "0    88.8   92.463                1\n",
      "1   102.4   94.080                1\n",
      "2    68.0   70.040                0\n",
      "3    80.0   71.400                1\n",
      "4    19.0   19.760                0\n",
      "5    68.0   61.880                1\n",
      "6   108.0  108.000                0\n",
      "7   100.0   98.000                1\n",
      "8    47.2   49.147                1\n"
     ]
    }
   ],
   "source": [
    "import dask.dataframe as dd\n",
    "\n",
    "\n",
    "# read a CSV file into a Dask DataFrame\n",
    "start1=timeit.default_timer()\n",
    "df3 = dd.read_csv('Storeprices.csv')\n",
    "end1=timeit.default_timer()\n",
    "dif=end1-start1\n",
    "print(f\"Time to read file was: {dif}\")\n",
    "\n",
    "startime=timeit.default_timer()\n",
    "# Define the calculations\n",
    "calc_store1 = 0.2 * df3['Discountability']\n",
    "calc_store2 = 0.3 * df3['Discountability']\n",
    "\n",
    "# Perform the calculations and store the result in a new dataframe\n",
    "result = df3.assign(\n",
    "    Store1=df3['Store1'] - (0.2 * df3['Store1'] * df3['Discountability']),\n",
    "    Store2=df3['Store2'] - (0.3 * df3['Store2'] * df3['Discountability'])\n",
    ")\n",
    "\n",
    "# Compute the result\n",
    "result = result.compute()\n",
    "\n",
    "endtime = timeit.default_timer()\n",
    "diff = endtime - startime\n",
    "print(f\"Time elapsed is: {diff}\")\n",
    "print(result.head(9))\n",
    "\n",
    "\n",
    "\n"
   ]
  },
  {
   "cell_type": "code",
   "execution_count": null,
   "id": "d0368df9",
   "metadata": {},
   "outputs": [],
   "source": []
  }
 ],
 "metadata": {
  "kernelspec": {
   "display_name": "Python (modin3)",
   "language": "python",
   "name": "modin"
  },
  "language_info": {
   "codemirror_mode": {
    "name": "ipython",
    "version": 3
   },
   "file_extension": ".py",
   "mimetype": "text/x-python",
   "name": "python",
   "nbconvert_exporter": "python",
   "pygments_lexer": "ipython3",
   "version": "3.10.11"
  }
 },
 "nbformat": 4,
 "nbformat_minor": 5
}
